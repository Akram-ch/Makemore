{
 "cells": [
  {
   "cell_type": "code",
   "execution_count": 1,
   "id": "a014b7f1-15f7-4d28-8204-5a8730092c6e",
   "metadata": {},
   "outputs": [
    {
     "name": "stdout",
     "output_type": "stream",
     "text": [
      "Requirement already satisfied: matplotlib in c:\\users\\akram\\anaconda3\\envs\\torch\\lib\\site-packages (3.7.1)\n",
      "Requirement already satisfied: contourpy>=1.0.1 in c:\\users\\akram\\anaconda3\\envs\\torch\\lib\\site-packages (from matplotlib) (1.0.7)\n",
      "Requirement already satisfied: cycler>=0.10 in c:\\users\\akram\\anaconda3\\envs\\torch\\lib\\site-packages (from matplotlib) (0.11.0)\n",
      "Requirement already satisfied: fonttools>=4.22.0 in c:\\users\\akram\\anaconda3\\envs\\torch\\lib\\site-packages (from matplotlib) (4.39.4)\n",
      "Requirement already satisfied: kiwisolver>=1.0.1 in c:\\users\\akram\\anaconda3\\envs\\torch\\lib\\site-packages (from matplotlib) (1.4.4)\n",
      "Requirement already satisfied: numpy>=1.20 in c:\\users\\akram\\anaconda3\\envs\\torch\\lib\\site-packages (from matplotlib) (1.24.1)\n",
      "Requirement already satisfied: packaging>=20.0 in c:\\users\\akram\\anaconda3\\envs\\torch\\lib\\site-packages (from matplotlib) (23.0)\n",
      "Requirement already satisfied: pillow>=6.2.0 in c:\\users\\akram\\anaconda3\\envs\\torch\\lib\\site-packages (from matplotlib) (9.3.0)\n",
      "Requirement already satisfied: pyparsing>=2.3.1 in c:\\users\\akram\\anaconda3\\envs\\torch\\lib\\site-packages (from matplotlib) (3.0.9)\n",
      "Requirement already satisfied: python-dateutil>=2.7 in c:\\users\\akram\\anaconda3\\envs\\torch\\lib\\site-packages (from matplotlib) (2.8.2)\n",
      "Requirement already satisfied: six>=1.5 in c:\\users\\akram\\anaconda3\\envs\\torch\\lib\\site-packages (from python-dateutil>=2.7->matplotlib) (1.16.0)\n"
     ]
    }
   ],
   "source": [
    "!pip install matplotlib"
   ]
  },
  {
   "cell_type": "code",
   "execution_count": 2,
   "id": "46603cc5-c8c2-49c8-acfd-f30fe8d163c0",
   "metadata": {},
   "outputs": [],
   "source": [
    "words = open('names.txt', 'r').read().splitlines()"
   ]
  },
  {
   "cell_type": "code",
   "execution_count": 3,
   "id": "15c5ef6b-b62c-455d-bb46-bb9a309db167",
   "metadata": {},
   "outputs": [
    {
     "data": {
      "text/plain": [
       "['emma',\n",
       " 'olivia',\n",
       " 'ava',\n",
       " 'isabella',\n",
       " 'sophia',\n",
       " 'charlotte',\n",
       " 'mia',\n",
       " 'amelia',\n",
       " 'harper',\n",
       " 'evelyn']"
      ]
     },
     "execution_count": 3,
     "metadata": {},
     "output_type": "execute_result"
    }
   ],
   "source": [
    "words[:10]"
   ]
  },
  {
   "cell_type": "code",
   "execution_count": 4,
   "id": "52e22fa3-5035-4509-b582-b9d343dc53f8",
   "metadata": {},
   "outputs": [
    {
     "data": {
      "text/plain": [
       "32033"
      ]
     },
     "execution_count": 4,
     "metadata": {},
     "output_type": "execute_result"
    }
   ],
   "source": [
    "len(words)"
   ]
  },
  {
   "cell_type": "code",
   "execution_count": 5,
   "id": "e8873530-b308-452b-b26c-6b4cde0117d2",
   "metadata": {},
   "outputs": [
    {
     "data": {
      "text/plain": [
       "2"
      ]
     },
     "execution_count": 5,
     "metadata": {},
     "output_type": "execute_result"
    }
   ],
   "source": [
    "min(len(w) for w in words)"
   ]
  },
  {
   "cell_type": "code",
   "execution_count": 6,
   "id": "9ebd28df-3e77-487c-9e71-9aac7291340a",
   "metadata": {},
   "outputs": [
    {
     "data": {
      "text/plain": [
       "15"
      ]
     },
     "execution_count": 6,
     "metadata": {},
     "output_type": "execute_result"
    }
   ],
   "source": [
    "max(len(w) for w in words)"
   ]
  },
  {
   "cell_type": "markdown",
   "id": "0d44f591-6260-4354-91df-b9ae5ef26360",
   "metadata": {},
   "source": [
    "### Bigram Language model"
   ]
  },
  {
   "cell_type": "code",
   "execution_count": 7,
   "id": "51cec453-8ecf-4ba9-bbd5-72b81c174480",
   "metadata": {},
   "outputs": [],
   "source": [
    "#predict the next character based on the current character\n",
    "\n",
    "b = {} #Dictionary of all the bigrams in the dataset\n",
    "\n",
    "for w in words:\n",
    "    chs = ['.'] + list(w) + ['.']\n",
    "    for ch1, ch2 in zip(chs, chs[1:]):\n",
    "        bigram = (ch1, ch2)\n",
    "        b[bigram] = b.get(bigram, 0) + 1"
   ]
  },
  {
   "cell_type": "code",
   "execution_count": 8,
   "id": "84e50798-71b3-4f4b-9520-7445c9fa8286",
   "metadata": {},
   "outputs": [],
   "source": [
    "#sorted(b.items(), key=lambda kv:-kv[1])"
   ]
  },
  {
   "cell_type": "code",
   "execution_count": 9,
   "id": "b532f090-af69-412c-a9b1-60432fbaa24f",
   "metadata": {},
   "outputs": [],
   "source": [
    "import torch"
   ]
  },
  {
   "cell_type": "code",
   "execution_count": 10,
   "id": "ef201dd4-6afd-478b-9735-a227524c2d74",
   "metadata": {},
   "outputs": [],
   "source": [
    "N = torch.zeros((27,27), dtype=torch.int32)"
   ]
  },
  {
   "cell_type": "code",
   "execution_count": 11,
   "id": "08fe4ba6-1fdc-41da-9633-daa310acfd73",
   "metadata": {},
   "outputs": [],
   "source": [
    "chars = ['.'] + sorted(list(set(''.join(words))))\n",
    "stoi = {ch:i for i, ch in enumerate(chars)}"
   ]
  },
  {
   "cell_type": "code",
   "execution_count": 12,
   "id": "4f9424ca-3aa8-490e-80c4-a3a052c76b84",
   "metadata": {},
   "outputs": [],
   "source": [
    "itos = {i:ch for i, ch in enumerate(chars)}"
   ]
  },
  {
   "cell_type": "code",
   "execution_count": 13,
   "id": "b0eff585-bec1-40fb-8b82-6fac55b6cdcc",
   "metadata": {},
   "outputs": [],
   "source": [
    "for w in words:\n",
    "    chs = ['.'] + list(w) + ['.']\n",
    "    for ch1, ch2 in zip(chs, chs[1:]):\n",
    "        ix1 = stoi[ch1]\n",
    "        ix2 = stoi[ch2]\n",
    "        N[ix1, ix2] += 1"
   ]
  },
  {
   "cell_type": "code",
   "execution_count": null,
   "id": "6dfb67da-6e30-4ada-8aef-d40ffc089e3d",
   "metadata": {},
   "outputs": [],
   "source": [
    "import matplotlib.pyplot as plt\n",
    "\n",
    "plt.figure(figsize=(16,16))\n",
    "plt.imshow(N, cmap='Blues')\n",
    "for i in range(27):\n",
    "    for j in range(27):\n",
    "        chstr = itos[i] + itos[j]\n",
    "        plt.text(j, i, chstr, ha=\"center\", va=\"bottom\", color='gray')\n",
    "        plt.text(j, i, N[i, j].item(), ha=\"center\", va=\"top\", color='gray')\n",
    "plt.axis('off');"
   ]
  },
  {
   "cell_type": "code",
   "execution_count": null,
   "id": "dd2ee627-e69f-4ff7-8bb1-89a56937c1ac",
   "metadata": {},
   "outputs": [],
   "source": [
    "N[0]"
   ]
  },
  {
   "cell_type": "code",
   "execution_count": null,
   "id": "8a8253f6-4a57-48d4-be3b-beb8984241c0",
   "metadata": {},
   "outputs": [],
   "source": [
    "p = N[0].float()\n",
    "p = p/p.sum()\n",
    "p"
   ]
  },
  {
   "cell_type": "code",
   "execution_count": null,
   "id": "b41ec57d-b62b-42ba-ba65-44e4ed532e3b",
   "metadata": {},
   "outputs": [],
   "source": [
    "g = torch.Generator().manual_seed(2147483647)"
   ]
  },
  {
   "cell_type": "code",
   "execution_count": null,
   "id": "7f72695d-ce62-491b-949b-a4ecac870ff7",
   "metadata": {},
   "outputs": [],
   "source": [
    "ix = torch.multinomial(p, num_samples=1, replacement= True, generator=g).item()\n",
    "itos[ix]"
   ]
  },
  {
   "cell_type": "code",
   "execution_count": null,
   "id": "fefa36b8-90e6-48d1-9b78-148dbd699c14",
   "metadata": {},
   "outputs": [],
   "source": [
    "P = N.float()\n",
    "P = P / P.sum(1, keepdim=True)"
   ]
  },
  {
   "cell_type": "code",
   "execution_count": null,
   "id": "3f7d4815-c7d3-4410-b092-f864f1ab95ff",
   "metadata": {},
   "outputs": [],
   "source": [
    "g = torch.Generator().manual_seed(2147483647)\n",
    "\n",
    "for i in range(20):\n",
    "\n",
    "    ix = 0\n",
    "    out = []\n",
    "    while True:\n",
    "        p = N[ix].float()\n",
    "        p = p/p.sum()\n",
    "        ix = torch.multinomial(p, num_samples=1, replacement= True, generator=g).item()\n",
    "        out.append(itos[ix])\n",
    "        #print(itos[ix])\n",
    "        if ix == 0:\n",
    "            break\n",
    "    print(''.join(out))"
   ]
  },
  {
   "cell_type": "code",
   "execution_count": null,
   "id": "4776e2ba-bc56-4d7f-81e8-2a959be1ef2f",
   "metadata": {},
   "outputs": [],
   "source": [
    "log_likelihood = 0\n",
    "n = 0\n",
    "for w in words:\n",
    "    chs = ['.'] + list(w) + ['.']\n",
    "    for ch1, ch2 in zip(chs, chs[1:]):\n",
    "        ix1 = stoi[ch1]\n",
    "        ix2 = stoi[ch2]\n",
    "        prob = P[ix1, ix2]\n",
    "        logprob = torch.log(prob)\n",
    "        log_likelihood += logprob\n",
    "        n+=1\n",
    "    \n",
    "print(-log_likelihood/n)"
   ]
  },
  {
   "cell_type": "code",
   "execution_count": null,
   "id": "7aa83c6f-2b40-4a04-9976-d19eb431fe12",
   "metadata": {},
   "outputs": [],
   "source": [
    "# create the training set of all the bigrams (x,y)\n",
    "xs, ys = [], []\n",
    "\n",
    "for w in words[:1]:\n",
    "    chs = ['.'] + list(w) + ['.']\n",
    "    for ch1, ch2 in zip(chs, chs[1:]):\n",
    "        ix1 = stoi[ch1]\n",
    "        ix2 = stoi[ch2]\n",
    "        print(ch1, ch2)\n",
    "        xs.append(ix1)\n",
    "        ys.append(ix2)\n",
    "        \n",
    "xs = torch.tensor(xs)\n",
    "ys = torch.tensor(ys)\n"
   ]
  },
  {
   "cell_type": "code",
   "execution_count": null,
   "id": "8b6b987f-dfa7-415a-aeac-b7a21b4e7972",
   "metadata": {},
   "outputs": [],
   "source": [
    "xs"
   ]
  },
  {
   "cell_type": "code",
   "execution_count": null,
   "id": "6e09d7a3-7350-4d08-83fb-22ba8027c819",
   "metadata": {},
   "outputs": [],
   "source": [
    "ys"
   ]
  },
  {
   "cell_type": "code",
   "execution_count": null,
   "id": "8934e4c2-b812-40c6-8e55-5523adbbb993",
   "metadata": {},
   "outputs": [],
   "source": [
    "import torch.nn.functional as F\n",
    "xenc = F.one_hot(xs, num_classes=27).float()"
   ]
  },
  {
   "cell_type": "code",
   "execution_count": null,
   "id": "88e7b9d8-9b34-4f41-baa6-1936410c295b",
   "metadata": {},
   "outputs": [],
   "source": [
    "xenc.shape"
   ]
  },
  {
   "cell_type": "code",
   "execution_count": null,
   "id": "a6474a3d-8d21-4833-8ac5-7cc230a33e3e",
   "metadata": {},
   "outputs": [],
   "source": [
    "plt.imshow(xenc)"
   ]
  },
  {
   "cell_type": "code",
   "execution_count": null,
   "id": "ce42ef38-77d7-4fc9-866f-7bf3f480cd4a",
   "metadata": {},
   "outputs": [],
   "source": [
    "xenc.dtype"
   ]
  },
  {
   "cell_type": "code",
   "execution_count": null,
   "id": "48166e67-c82d-4c80-94e9-8a723d91faf1",
   "metadata": {},
   "outputs": [],
   "source": [
    "# (5,27) @ (27,1) \n",
    "\n",
    "W = torch.randn((27,27))\n",
    "logits = xenc @ W #log-counts\n",
    "counts = logits.exp()\n",
    "probs = counts / counts.sum(1, keepdims=True)\n",
    "#softmax layer\n",
    "\n",
    "print(probs)"
   ]
  },
  {
   "cell_type": "code",
   "execution_count": null,
   "id": "ab5672a2-9a55-400b-8986-79a76216d523",
   "metadata": {},
   "outputs": [],
   "source": [
    "nlls = torch.zeros(5)\n",
    "for i in range(5):\n",
    "  # i-th bigram:\n",
    "  x = xs[i].item() # input character index\n",
    "  y = ys[i].item() # label character index\n",
    "  print('--------')\n",
    "  print(f'bigram example {i+1}: {itos[x]}{itos[y]} (indexes {x},{y})')\n",
    "  print('input to the neural net:', x)\n",
    "  print('output probabilities from the neural net:', probs[i])\n",
    "  print('label (actual next character):', y)\n",
    "  p = probs[i, y]\n",
    "  print('probability assigned by the net to the the correct character:', p.item())\n",
    "  logp = torch.log(p)\n",
    "  print('log likelihood:', logp.item())\n",
    "  nll = -logp\n",
    "  print('negative log likelihood:', nll.item())\n",
    "  nlls[i] = nll\n",
    "\n",
    "print('=========')\n",
    "print('average negative log likelihood, i.e. loss =', nlls.mean().item())"
   ]
  },
  {
   "cell_type": "code",
   "execution_count": null,
   "id": "6c831cfd-b2f7-481c-bf91-f33a97e4f4d7",
   "metadata": {},
   "outputs": [],
   "source": [
    "#------------From Scratch!!!------------------------"
   ]
  },
  {
   "cell_type": "code",
   "execution_count": null,
   "id": "26ee0c6e-a5aa-4946-a990-7381126d051f",
   "metadata": {},
   "outputs": [],
   "source": [
    "# Making the dataset :\n",
    "xs = []\n",
    "ys = []\n",
    "\n",
    "for w in words: \n",
    "    chs = ['.'] + list(w) + ['.']\n",
    "    for ch1, ch2 in zip(chs, chs[1:]):\n",
    "        ix1 = stoi[ch1]\n",
    "        ix2 = stoi[ch2]\n",
    "        xs.append(ix1)\n",
    "        ys.append(ix2)\n",
    "xs = torch.tensor(xs)\n",
    "ys = torch.tensor(ys)\n",
    "        "
   ]
  },
  {
   "cell_type": "code",
   "execution_count": null,
   "id": "b935e39f-7381-4aab-8177-139a4da25431",
   "metadata": {},
   "outputs": [],
   "source": [
    "#Encoding the inputs and the targets :\n",
    "import torch.nn.functional as F"
   ]
  },
  {
   "cell_type": "code",
   "execution_count": null,
   "id": "88a57e25-4d8b-40e7-9d29-f4767b087b76",
   "metadata": {},
   "outputs": [],
   "source": [
    "xenc = F.one_hot(xs).float()\n",
    "xenc.shape"
   ]
  },
  {
   "cell_type": "code",
   "execution_count": null,
   "id": "96a60359-2c79-4b37-92ab-df4723a759a3",
   "metadata": {},
   "outputs": [],
   "source": [
    "#One-layer Neural net\n",
    "W = torch.randn(size=(27,27), requires_grad=True) #The weights represent the probabilities for each bigram"
   ]
  },
  {
   "cell_type": "code",
   "execution_count": null,
   "id": "d0b850a1-d8e5-4932-bd63-a1c38b36072c",
   "metadata": {},
   "outputs": [],
   "source": [
    "for k in range(100):\n",
    "    logits = xenc @ W\n",
    "    counts = logits.exp()\n",
    "    probs = counts/counts.sum(1, keepdim=True)\n",
    "    loss = -probs[torch.arange(xenc.shape[0]), ys].log().mean()\n",
    "    print(loss.item())\n",
    "    W.grad = None\n",
    "    loss.backward()\n",
    "    W.data += -10 * W.grad"
   ]
  },
  {
   "cell_type": "code",
   "execution_count": null,
   "id": "ecb74ac0-a349-46de-a03d-51bb231d59e5",
   "metadata": {},
   "outputs": [],
   "source": []
  },
  {
   "cell_type": "code",
   "execution_count": null,
   "id": "a45ef169-e199-41d5-a626-b44479bf46aa",
   "metadata": {},
   "outputs": [],
   "source": []
  }
 ],
 "metadata": {
  "kernelspec": {
   "display_name": "Python 3 (ipykernel)",
   "language": "python",
   "name": "python3"
  },
  "language_info": {
   "codemirror_mode": {
    "name": "ipython",
    "version": 3
   },
   "file_extension": ".py",
   "mimetype": "text/x-python",
   "name": "python",
   "nbconvert_exporter": "python",
   "pygments_lexer": "ipython3",
   "version": "3.11.3"
  }
 },
 "nbformat": 4,
 "nbformat_minor": 5
}
